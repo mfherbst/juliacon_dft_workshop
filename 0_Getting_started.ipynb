{
 "cells": [
  {
   "cell_type": "markdown",
   "id": "statewide-honey",
   "metadata": {},
   "source": [
    "#  A mathematical look at electronic structure theory"
   ]
  },
  {
   "cell_type": "markdown",
   "id": "dried-concrete",
   "metadata": {},
   "source": [
    "## About this workshop\n",
    "\n",
    "<img src=\"img/dftkfields.png\" width=40% align=\"right\" />\n",
    "\n",
    "- Electronic structure theory is a fascinating interdisciplinary field\n",
    "- Why bother? -> See [my JuliaCon 2020 talk](https://www.youtube.com/watch?v=-RomkxjlIcQ)\n",
    "\n",
    "\n",
    "- Multiple philosophies and general approaches exist\n",
    "- Focus of this workshop:\n",
    "    * Solid-state problems (crystals, lattices, ...)\n",
    "    * Plane-wave discretisations\n",
    "    * Density functional theory (DFT)\n",
    "    * Highly successful, but still many open mathematical problems\n",
    "\n",
    "\n",
    "- Topics:\n",
    "    * Specialities of periodic problems\n",
    "    * Mathematical formulation of the DFT\n",
    "    * Numerical solution using the self-consistent field (SCF) procedure\n",
    "    * Numerical tools for analysis and understanding convergence\n",
    "    * Opportunities for modern software programming techniques (tracking floating-point error, automatic differentation).\n",
    "\n",
    "\n",
    "- Goals:\n",
    "    * Allow applied mathematicians to gain access to the topic\n",
    "    * Allow practitioners to deepen mathematical insight\n",
    "    * Introduce the [density-functional toolkit](https://dftk.org)\n",
    "      and its interplay with the Julia package ecosystom."
   ]
  },
  {
   "cell_type": "markdown",
   "id": "several-receipt",
   "metadata": {},
   "source": [
    "## Whoami and whoareyou?\n",
    "\n",
    "* Michael F. Herbst\n",
    "    - Postdoc at Applied and Computational Mathematics departmant at RWTH Aachen University\n",
    "    - Chemistry background, but worked in maths departments for the past few years\n",
    "    - Active Julia user since about Julia 0.6\n",
    "    \n",
    "    \n",
    "    - Email: herbst@acom.rwth-aachen.de\n",
    "    - Web:   https://michael-herbst.com\n",
    "    \n",
    "    \n",
    "* So who are you?\n",
    "    - Quick poll: http://etc.ch/rWup"
   ]
  },
  {
   "cell_type": "markdown",
   "id": "representative-employment",
   "metadata": {},
   "source": [
    "## Some general remarks\n",
    "\n",
    "- The examples in this notebook were primarily chosen to be quick to run and yield mathematical insight. In particular:\n",
    "    * Parameters will not give fully converged results\n",
    "    * Not all examples make physical sense (i.e. it might be better to model things differently in practice)\n",
    "\n",
    "\n",
    "- I have prepared:\n",
    "    * Some theory\n",
    "    * Many examples\n",
    "    * Short exercises \n",
    "    \n",
    "    \n",
    "- This is meant to be interactive:\n",
    "    * Please ask questions ..."
   ]
  }
 ],
 "metadata": {
  "kernelspec": {
   "display_name": "Julia 1.6.1",
   "language": "julia",
   "name": "julia-1.6"
  },
  "language_info": {
   "file_extension": ".jl",
   "mimetype": "application/julia",
   "name": "julia",
   "version": "1.6.1"
  }
 },
 "nbformat": 4,
 "nbformat_minor": 5
}
