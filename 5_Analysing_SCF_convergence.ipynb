{
 "cells": [
  {
   "cell_type": "markdown",
   "id": "sought-vector",
   "metadata": {},
   "source": [
    "# Analysing SCF convergence\n",
    "\n",
    "In the previous notebook we saw that using the `KerkerMixing` as a preconditioner $P^{-1}$ to the SCF problem\n",
    "greatly improved the convergence of the SCF for aluminium. In this notebook we will use some numerical tools to understand what is going on.\n",
    "\n",
    "The standard damped, preconditioned fixed-point iterations are written as\n",
    "$$ \\rho_{n+1} = \\rho_{n} + \\alpha P^{-1} [D(V(\\rho_n)) - \\rho_n]. $$\n",
    "\n",
    "\n",
    "Near the fixed point $\\rho_\\ast = D(V(\\rho_\\ast))$ the error $e_n = \\rho_n - \\rho_\\ast$ is small and we can expand to first order:\n",
    "$$ \\begin{align*}\n",
    "D(V(\\rho_\\ast + e_n)) &\\simeq D[V(\\rho_\\ast) + V'(e_n)] \\\\\n",
    "&\\simeq D(V(\\rho_\\ast)) + D'(V'(e_n)))\\\\\n",
    "&= \\rho_\\ast + D'(V'(e_n)))\n",
    "\\end{align*}$$\n",
    "\n",
    "The derivatives $D'$ and $V'$ are again important quantities and are given special symbols:\n",
    "- Hartree-exchange-correlation **kernel** $K_\\text{Hxc} = V'$\n",
    "- Independent-particle **susceptibility** $\\chi_0 = D'$"
   ]
  },
  {
   "cell_type": "markdown",
   "id": "secondary-stability",
   "metadata": {},
   "source": [
    "The above expansion allows to relate the **error between SCF iterations** (near the fixed point):\n",
    "$$ \\begin{align*}\n",
    "e_{n+1} = \\rho_{n+1} - \\rho_\\ast \n",
    "&\\simeq \\rho_{n} - \\rho_\\ast + \\alpha P^{-1} [\\rho_\\ast + \\chi_0 K_\\text{Hxc} e_n - \\rho_n] \\\\\n",
    "&= e_n - \\alpha P^{-1} [1 - \\chi_0 K_\\text{Hxc}] e_n\n",
    "\\end{align*}$$\n",
    "\n",
    "Introducing the **dielectric matrix** adjoint\n",
    "$$ \\varepsilon^\\dagger = [1 - \\chi_0 K_\\text{Hxc}] $$\n",
    "leads to the final relationship\n",
    "$$ e_{n+1} \\simeq [1 - \\alpha P^{-1} \\varepsilon^\\dagger] e_n = [1 - \\alpha P^{-1} \\varepsilon^\\dagger]^n e_0$$\n",
    "with $e_0$ being the initial error."
   ]
  },
  {
   "cell_type": "markdown",
   "id": "earlier-expression",
   "metadata": {},
   "source": [
    "In other words:\n",
    "$$\\text{SCF converges} \\qquad \\Leftrightarrow \\qquad \\text{eigenvalues of $1 - \\alpha P^{-1} \\varepsilon^\\dagger$ are between $-1$ and $1$}$$\n",
    "This implies that the **convergence** properties of an SCF\n",
    "are related to $\\varepsilon$, the dielectric operator,\n",
    "which **depends on** the **dielectric properties** of the system under study."
   ]
  },
  {
   "cell_type": "markdown",
   "id": "biblical-waterproof",
   "metadata": {},
   "source": [
    "## Making an SCF converge\n",
    "\n",
    "It turns out that for the largest chunk of cases the eigenvalues of $\\varepsilon^\\dagger$ are positive. To make the SCF converge one can therefore:\n",
    "- Choose $\\alpha$ small enough. Even for $P = I$ this always works, but convergence can be painfully slow.\n",
    "- Find a good $P^{-1} \\simeq (\\varepsilon^\\dagger)^{-1}$. Then the eigenvalues of $(P^{-1} \\varepsilon^\\dagger)$ are close to 1, $\\alpha \\simeq 1$ is a good choice and the SCF converges in few steps. Hooray!\n",
    "- The optimal $\\alpha$ and the optimal rate of convergence are related to the condition number\n",
    "  $$ \\kappa = \\frac{\\lambda_\\text{max}}{\\lambda_\\text{min}}$$\n",
    "  of the dielectric matrix. The smaller the condition number, the better the convergence.\n",
    "\n",
    "**Note:** If the preconditoner is very bad, the eigenvalues of $(P^{-1} \\varepsilon^\\dagger)$ might even be worse than $\\varepsilon^\\dagger$, such that convergence is actually hampered.\n",
    "\n",
    "We will now investigate the eigenvalues of $(P^{-1} \\varepsilon^\\dagger)$ for a few examples."
   ]
  },
  {
   "cell_type": "markdown",
   "id": "institutional-procedure",
   "metadata": {},
   "source": [
    "## Aluminium\n",
    "\n",
    "We start by taking a look at a slightly cruder (thus computationally cheaper) version of our aluminium setup from before: "
   ]
  },
  {
   "cell_type": "code",
   "execution_count": null,
   "id": "blank-architect",
   "metadata": {},
   "outputs": [],
   "source": [
    "using DFTK\n",
    "using LinearAlgebra\n",
    "\n",
    "function aluminium_setup(repeat=1; Ecut=7.0, kgrid=[1, 1, 1])\n",
    "    a = 7.65339\n",
    "    lattice = diagm(fill(a, 3))\n",
    "    Al = ElementPsp(:Al, psp=load_psp(\"hgh/lda/al-q3\"))\n",
    "    atoms = [Al => [[0.0, 0.0, 0.0], [0.0, 0.5, 0.5], [0.5, 0.0, 0.5], [0.5, 0.5, 0.0]]]\n",
    "\n",
    "    # Make supercell in pymatgen\n",
    "    mg_struct = pymatgen_structure(lattice, atoms)\n",
    "    mg_struct.make_supercell([1, 1, repeat])\n",
    "    lattice = load_lattice(mg_struct)\n",
    "    atoms = [Al => [s.frac_coords for s in mg_struct.sites]];\n",
    "\n",
    "    # Construct the model\n",
    "    model = model_LDA(lattice, atoms, temperature=1e-3, symmetries=false)\n",
    "    PlaneWaveBasis(model; Ecut, kgrid)\n",
    "end"
   ]
  },
  {
   "cell_type": "markdown",
   "id": "faced-criminal",
   "metadata": {},
   "source": [
    "We already know that for moderate `repeat`s the convergence without mixing / preconditioner is slow:"
   ]
  },
  {
   "cell_type": "code",
   "execution_count": null,
   "id": "comic-nursery",
   "metadata": {},
   "outputs": [],
   "source": [
    "scfres = self_consistent_field(aluminium_setup(3); tol=1e-12);"
   ]
  },
  {
   "cell_type": "markdown",
   "id": "worst-strategy",
   "metadata": {},
   "source": [
    "while when using the Kerker preconditioner it is much faster:"
   ]
  },
  {
   "cell_type": "code",
   "execution_count": null,
   "id": "furnished-impossible",
   "metadata": {},
   "outputs": [],
   "source": [
    "scfres = self_consistent_field(aluminium_setup(3); tol=1e-12, mixing=KerkerMixing());"
   ]
  },
  {
   "cell_type": "markdown",
   "id": "funky-claim",
   "metadata": {},
   "source": [
    "Given an `scfres` one easily constructs functions representing $\\varepsilon^\\dagger$ and $P^{-1}$ with DFTK:"
   ]
  },
  {
   "cell_type": "code",
   "execution_count": null,
   "id": "upper-egypt",
   "metadata": {},
   "outputs": [],
   "source": [
    "function construct_Pinv_epsilon(scfres)\n",
    "    basis = scfres.basis\n",
    "    \n",
    "    Pinv_Kerker(δρ) = DFTK.mix_density(KerkerMixing(), basis, δρ)\n",
    "\n",
    "    function epsilon(δρ)  # Apply ε† = 1 - χ0 Khxc\n",
    "        δV   = apply_kernel(basis, δρ; ρ=scfres.ρ)\n",
    "        χ0δV = apply_χ0(scfres.ham, scfres.ψ, scfres.εF, scfres.eigenvalues, δV)\n",
    "        δρ - χ0δV   \n",
    "    end    \n",
    "    \n",
    "    epsilon, Pinv_Kerker\n",
    "end"
   ]
  },
  {
   "cell_type": "markdown",
   "id": "suspended-george",
   "metadata": {},
   "source": [
    "Based on these functions we can find the largest eigenvalue of $\\varepsilon^\\dagger$ for this aluminium case using `KrylovKit`"
   ]
  },
  {
   "cell_type": "code",
   "execution_count": null,
   "id": "hawaiian-watershed",
   "metadata": {},
   "outputs": [],
   "source": [
    "using KrylovKit\n",
    "\n",
    "scfres = self_consistent_field(aluminium_setup(3); tol=1e-12, mixing=KerkerMixing());\n",
    "epsilon, Pinv_Kerker = construct_Pinv_epsilon(scfres)\n",
    "\n",
    "λ_large, X_large, info = eigsolve(epsilon, randn(size(scfres.ρ)), 4, :LM;\n",
    "                                  tol=1e-4, eager=true, verbosity=2)\n",
    "@assert info.converged ≥ 4\n",
    "λ_max = maximum(real.(λ_large))\n",
    "\n",
    "println(\"Largest eigenvalue: $(λ_max)\")"
   ]
  },
  {
   "cell_type": "markdown",
   "id": "extraordinary-action",
   "metadata": {},
   "source": [
    "The smallest eigenvalue can also be determined using KrylovKit. Getting this to work reliably is a little more tricky, however. I will only show a simple setup, which has the disadvantage of being pretty slow. "
   ]
  },
  {
   "cell_type": "code",
   "execution_count": null,
   "id": "sonic-pledge",
   "metadata": {},
   "outputs": [],
   "source": [
    "λ_small, X_small, info = eigsolve(epsilon, randn(size(scfres.ρ)), 2, EigSorter(abs, rev=false);\n",
    "                                  tol=1e-3, eager=true, verbosity=2)\n",
    "@assert info.converged ≥ 2\n",
    "λ_min = minimum(real.(λ_small))\n",
    "\n",
    "println(\"Smallest eigenvalue: $(λ_min)\")"
   ]
  },
  {
   "cell_type": "code",
   "execution_count": null,
   "id": "literary-chocolate",
   "metadata": {},
   "outputs": [],
   "source": [
    "# If running the above takes too long for you just use this estimate:\n",
    "# λ_min = 0.952"
   ]
  },
  {
   "cell_type": "markdown",
   "id": "engaged-israel",
   "metadata": {},
   "source": [
    "To summarise our results:"
   ]
  },
  {
   "cell_type": "code",
   "execution_count": null,
   "id": "applied-collector",
   "metadata": {},
   "outputs": [],
   "source": [
    "@show λ_min\n",
    "@show λ_max\n",
    "cond = λ_max / λ_min\n",
    "@show cond"
   ]
  },
  {
   "cell_type": "markdown",
   "id": "offensive-architecture",
   "metadata": {},
   "source": [
    "The condition number of $\\varepsilon^\\dagger$ for this system is about $30$.\n",
    "This does not sound large compared to the condition numbers you might know\n",
    "from linear systems.\n",
    "\n",
    "However, this is sufficient to cause a notable slowdown, which would be even more\n",
    "pronounced if we did not use Anderson, since we also would need to drastically\n",
    "reduce the damping (try it!)."
   ]
  },
  {
   "cell_type": "markdown",
   "id": "exclusive-exclusive",
   "metadata": {},
   "source": [
    "**Exercise:** Find the largest eigenvalue in case the Kerker preconditioner is used.\n",
    "*Hint:* You can construct the operator $P^{-1} \\varepsilon^\\dagger$ by simply chaining the functions (`Pinv_Kerker ∘ epsilon`). Assuming that the smallest eigenvalue is about $0.8$, what is the condition number now?\n",
    "\n",
    "If you want, repeat the exercise for `repeat = 6`. You can assume the smallest eigenvalue is still about $0.95$ or $0.8$, respectively. How does the condition number change if you double the system size?\n",
    "\n",
    "Keeping in mind that the condition number is linked to the convergence speed: Which is setup should be employed to keep the number of required SCF iterations independent of system size."
   ]
  },
  {
   "cell_type": "markdown",
   "id": "regulation-migration",
   "metadata": {},
   "source": [
    "#### Takeaways:\n",
    "- For metals the conditioning of the dielectric matrix increases steaply with system size.\n",
    "- The Kerker preconditioner tames this and makes SCFs on large metallic systems feasible by keeping the condition number of order 1."
   ]
  },
  {
   "cell_type": "markdown",
   "id": "statistical-tooth",
   "metadata": {},
   "source": [
    "## Helium chain\n",
    "\n",
    "To prove the point that a single preconditioner (like `KerkerMixing`) is not good for all systems,\n",
    "we now consider an (insulating) chain of Helium atoms:"
   ]
  },
  {
   "cell_type": "code",
   "execution_count": null,
   "id": "offshore-citizen",
   "metadata": {},
   "outputs": [],
   "source": [
    "using DFTK\n",
    "using LinearAlgebra\n",
    "\n",
    "function helium_setup(repeat=40; Ecut=7.0, kgrid=[1, 1, 1])\n",
    "    a = 5\n",
    "    lattice = diagm(fill(a, 3))\n",
    "    He = ElementPsp(:He, psp=load_psp(\"hgh/lda/he-q2\"))\n",
    "    atoms = [He => [[0.0, 0.0, 0.0]]]\n",
    "\n",
    "    # Make supercell in pymatgen\n",
    "    mg_struct = pymatgen_structure(lattice, atoms)\n",
    "    mg_struct.make_supercell([1, 1, repeat])\n",
    "    lattice = load_lattice(mg_struct)\n",
    "    atoms = [He => [s.frac_coords for s in mg_struct.sites]];\n",
    "\n",
    "    # Construct the model\n",
    "    model = model_LDA(lattice, atoms, temperature=1e-3, symmetries=false)\n",
    "    PlaneWaveBasis(model; Ecut, kgrid)\n",
    "end"
   ]
  },
  {
   "cell_type": "markdown",
   "id": "signal-minister",
   "metadata": {},
   "source": [
    "From running the SCFs using `KerkerMixing` seems like a bad idea:"
   ]
  },
  {
   "cell_type": "code",
   "execution_count": null,
   "id": "hollywood-continuity",
   "metadata": {},
   "outputs": [],
   "source": [
    "scfres = self_consistent_field(helium_setup(40); tol=1e-12, mixing=KerkerMixing());"
   ]
  },
  {
   "cell_type": "code",
   "execution_count": null,
   "id": "leading-broadcasting",
   "metadata": {},
   "outputs": [],
   "source": [
    "scfres = self_consistent_field(helium_setup(40); tol=1e-12);"
   ]
  },
  {
   "cell_type": "markdown",
   "id": "straight-attempt",
   "metadata": {},
   "source": [
    "**Exercise** This can be confirmed by investigating the eigenvalues. Here are some good settings for you to play on this problem. Find the condition numbers with and without `KerkerMixing` and explain the observations."
   ]
  },
  {
   "cell_type": "code",
   "execution_count": null,
   "id": "forty-argentina",
   "metadata": {},
   "outputs": [],
   "source": [
    "using KrylovKit\n",
    "\n",
    "scfres = self_consistent_field(helium_setup(40); tol=1e-12);\n",
    "epsilon, Pinv_Kerker = construct_Pinv_epsilon(scfres)\n",
    "\n",
    "operator = epsilon\n",
    "\n",
    "λ_large, X_large, info = eigsolve(operator, randn(size(scfres.ρ)), 2, :LM;\n",
    "                                  tol=1e-3, eager=true, verbosity=2)\n",
    "@assert info.converged ≥ 2\n",
    "λ_max = maximum(real.(λ_large))\n",
    "    \n",
    "λ_small, X_small, info = eigsolve(operator, randn(size(scfres.ρ)), 2, EigSorter(abs, rev=false);\n",
    "                                  tol=1e-3, eager=true, verbosity=2)\n",
    "@assert info.converged ≥ 2\n",
    "λ_min = minimum(real.(λ_small))\n",
    "\n",
    "println(\"Smallest eigenvalue: $(λ_min)\")\n",
    "println(\"Largest eigenvalue:  $(λ_max)\")"
   ]
  },
  {
   "cell_type": "code",
   "execution_count": null,
   "id": "maritime-factory",
   "metadata": {},
   "outputs": [],
   "source": [
    "@show λ_min\n",
    "@show λ_max\n",
    "cond = λ_max / λ_min\n",
    "@show cond"
   ]
  },
  {
   "cell_type": "markdown",
   "id": "formal-alexander",
   "metadata": {},
   "source": [
    "#### Takeaways:\n",
    "- For insulating systems the best approach is to not use any mixing.\n",
    "- **The ideal mixing** strongly depeends on the dielectric properties of system which is studied (metal versus insulator versus semiconductor).\n",
    "- A more detailed discussion as well as some ideas how to deal with inhomogeneous systems (where both metals and insulators coexist) is given in [a recently published paper](https://doi.org/10.1088/1361-648X/abcbdb)."
   ]
  }
 ],
 "metadata": {
  "kernelspec": {
   "display_name": "Julia 1.6.1",
   "language": "julia",
   "name": "julia-1.6"
  },
  "language_info": {
   "file_extension": ".jl",
   "mimetype": "application/julia",
   "name": "julia",
   "version": "1.6.1"
  }
 },
 "nbformat": 4,
 "nbformat_minor": 5
}
