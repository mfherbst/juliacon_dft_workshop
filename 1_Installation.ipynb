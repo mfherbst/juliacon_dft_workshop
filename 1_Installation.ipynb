{
 "cells": [
  {
   "cell_type": "markdown",
   "id": "burning-pharmacology",
   "metadata": {},
   "source": [
    "# Installation and setup"
   ]
  },
  {
   "cell_type": "markdown",
   "id": "coated-execution",
   "metadata": {},
   "source": [
    "## Requirements\n",
    "\n",
    "- **Julia $\\geq$ 1.6**\n",
    "- Some working python setup\n",
    "\n",
    "These notes have been made targeting DFTK 0.3.9."
   ]
  },
  {
   "cell_type": "markdown",
   "id": "mysterious-snake",
   "metadata": {},
   "source": [
    "## Jupyter notebooks\n",
    "\n",
    "To get these notebooks run from a shell as usual:\n",
    "```shell\n",
    "$ git clone https://github.com/mfherbst/juliacon_dft_workshop.git\n",
    "```"
   ]
  },
  {
   "cell_type": "markdown",
   "id": "permanent-syndication",
   "metadata": {},
   "source": [
    "## 1. Julia dependencies\n",
    "\n",
    "Either instantiate the Manifest of this git repository or run the following code to install the packages needed for this workshop:"
   ]
  },
  {
   "cell_type": "code",
   "execution_count": null,
   "id": "automotive-citizen",
   "metadata": {},
   "outputs": [],
   "source": [
    "using Pkg\n",
    "Pkg.add([\n",
    "\"DFTK\", \"DoubleFloats\", \"FiniteDiff\", \"ForwardDiff\",\n",
    "\"GenericLinearAlgebra\", \"Infiltrator\", \"IntervalArithmetic\",\n",
    "\"KrylovKit\", \"LineSearches\", \"NLsolve\", \"Plots\", \"PyCall\",\n",
    "\"Unitful\", \"UnitfulAtomic\"\n",
    "])"
   ]
  },
  {
   "cell_type": "markdown",
   "id": "baking-young",
   "metadata": {},
   "source": [
    "## 2. Python dependencies\n",
    "\n",
    "DFTK has a python dependency, that is unfortunately required for a few tasks. We are [currently working](https://github.com/JuliaMolSim/DFTK.jl/issues/483) on switching to a pure-Julia solution, however.\n",
    "\n",
    "But for the moment you need to install `pymatgen`.\n",
    "\n",
    "- If you use `Conda.jl`, the DFTK build script has already installed this package to Julia's conda environment.\n",
    "\n",
    "- If you use `pip` to manage your packages, run:"
   ]
  },
  {
   "cell_type": "code",
   "execution_count": null,
   "id": "experimental-fifty",
   "metadata": {},
   "outputs": [],
   "source": [
    "using PyCall\n",
    "if !isempty(PyCall.python)\n",
    "    run(`$(PyCall.python) -m pip install pymatgen`)\n",
    "end"
   ]
  },
  {
   "cell_type": "markdown",
   "id": "opponent-federal",
   "metadata": {},
   "source": [
    "- If you use an external conda environment then install `pymatgen` from the `conda-forge` channel."
   ]
  },
  {
   "cell_type": "markdown",
   "id": "american-hello",
   "metadata": {},
   "source": [
    "## 3. Verify things are working\n",
    "\n",
    "Run this code to see the relevant packages can be found:"
   ]
  },
  {
   "cell_type": "code",
   "execution_count": null,
   "id": "stuffed-motion",
   "metadata": {},
   "outputs": [],
   "source": [
    "using PyCall\n",
    "@show pyimport(\"pymatgen\").__name__  # \"pymatgen\"\n",
    "\n",
    "using DFTK\n",
    "DFTK.setup_threading()  # Prints some threading info"
   ]
  }
 ],
 "metadata": {
  "kernelspec": {
   "display_name": "Julia 1.6.1",
   "language": "julia",
   "name": "julia-1.6"
  },
  "language_info": {
   "file_extension": ".jl",
   "mimetype": "application/julia",
   "name": "julia",
   "version": "1.6.1"
  }
 },
 "nbformat": 4,
 "nbformat_minor": 5
}
