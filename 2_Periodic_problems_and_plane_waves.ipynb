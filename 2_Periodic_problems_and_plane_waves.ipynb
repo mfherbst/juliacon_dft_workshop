{
 "cells": [
  {
   "cell_type": "markdown",
   "id": "latest-correspondence",
   "metadata": {},
   "source": [
    "# Periodic problems and plane-wave discretisations\n",
    "\n",
    "Before digging into big real-world problems, i.e. solving density-functional theory in 3D, we will first take a step back and briefly look at some specifics of periodic problems and plane-wave discretisations.\n",
    "\n",
    "To make things simple, we first stay in 1D where things are nice and gentle ..."
   ]
  },
  {
   "cell_type": "markdown",
   "id": "awful-utilization",
   "metadata": {},
   "source": [
    "## Lattices\n",
    "\n",
    "### The Bloch transform\n",
    "\n",
    "- Consider a 1D periodic **lattice** with lattice constant $a$:\n",
    "  ```\n",
    "    |-------|-------|-------|\n",
    "        a       a       a\n",
    "  ```\n",
    "- We take its **unit cell** as the interval $A = [-a/2, a/2)$\n",
    "- Consider free-electron **Hamiltonian** (== a differential operator)\n",
    "  $$ H = -\\frac12 \\Delta $$\n",
    "  and we are interested in seeking its eigenfunctions $ H \\psi_i = \\varepsilon_i \\psi_i $.\n",
    "  \n",
    "  \n",
    "- The free-electron model is a model where electrons can freely move and there motion\n",
    "  in only governed by their own kinetic energy.\n",
    "  The Hamiltonians for solving density-functional theory (our ultimte goal)\n",
    "  is more involved, but many ideas we will discuss here carry forward."
   ]
  },
  {
   "cell_type": "markdown",
   "id": "gross-praise",
   "metadata": {},
   "source": [
    "- Perodicity of the problem implies that the Hamiltonian commutes with lattice translations $T_{n a}$\n",
    "  $$ T_{n a} H = H T_{n a} \\qquad \\forall n \\in \\mathbb{Z}$$\n",
    "  \n",
    "  \n",
    "- In this case **Bloch's theorem** says the solution has the form $ \\psi = e^{i k \\cdot x} u_k(x) $\n",
    "  where $u_k(x)$ has the perodicity of the lattice\n",
    "  $$ u_k(x + na) = u_k(x) \\qquad \\forall n \\in \\mathbb{Z}$$\n",
    "  and is indexed in a real number $k$ (more on this in a sec).\n",
    "  \n",
    "  \n",
    "- Apply $-\\Delta = -\\frac{d^2}{dx^2}$ to this ansatz:\n",
    "  $$\n",
    "    -\\Delta \\left(e^{i k \\cdot x} u_k(x)\\right) = (k^2 - 2ik \\nabla - \\Delta) ) e^{i k \\cdot x} u_k(x) = (-i \\nabla + k)^2 e^{i k \\cdot x} u_k(x)\n",
    "  $$\n",
    "  \n",
    "  \n",
    "- With this in mind it is natural to define a family\n",
    "  $$ H_k = \\frac12 (-i \\nabla + k)^2 $$\n",
    "  of $k$-specific blocks of $H$."
   ]
  },
  {
   "cell_type": "markdown",
   "id": "moral-sterling",
   "metadata": {},
   "source": [
    "- In fact one can find a unitary transformation $U$ (the **Bloch transform**) (represented as a familiy of unitary operators $U_k$) such that for any $k$:\n",
    "$$ (U_k H U_k^{-1}) = H_k. $$\n",
    "\n",
    "\n",
    "- This is a remarkable result, because it tells us that for seeking all eigenpairs of $H$ we actually only need to seek all eigenpairs of $H_k$ and concatenate them."
   ]
  },
  {
   "cell_type": "markdown",
   "id": "adaptive-steam",
   "metadata": {},
   "source": [
    "### The Brillouin zone\n",
    "\n",
    "The big mystery in the discussion so far is the parameter $k$ of the operator families.\n",
    "\n",
    "- In principle $k$ can take *any* real value. It turns out, however, that some of these values will give rise\n",
    "  to operators related by unitary transformations\n",
    "- Since such operators have the same eigenspectrum, only one version needs to be considered.\n",
    "- The smallest subset from which $k$ is chosen is the **Brillouin zone** (BZ).\n",
    "\n",
    "\n",
    "- The BZ is the unit cell of the **reciprocal lattice**, which may be constructed from the **real-space lattice**\n",
    "  by a Fourier transform.\n",
    "- In our simple 1D case the reciprocal lattice is just\n",
    "  ```\n",
    "    |--------|--------|--------|\n",
    "       2π/a     2π/a     2π/a\n",
    "  ```\n",
    "  i.e. like the real-space lattice, but just with a different lattice constant $b = 2\\pi / a$.\n",
    "- The BZ in this example is $B = [-π/a, π/a)$"
   ]
  },
  {
   "cell_type": "markdown",
   "id": "fossil-girlfriend",
   "metadata": {},
   "source": [
    "### Discretising the problem\n",
    "\n",
    "- To solve the problem, we just need to find the eigenspectrum of all $H_k$ with $k \\in B$\n",
    "\n",
    "\n",
    "- **Problem 1:** $B$ is an overcountable set $\\Rightarrow$ **$k$-point sampling**: Instead of considering the full Brillouin zone we just consider a regular grid of values for $k$, the so-called **$k$-points**\n",
    "\n",
    "\n",
    "- **Problem 2:** Each $H_k$ is an operator over an infinite-dimensional domain $\\Rightarrow$ Project the problem into a finite basis diagonalise the resulting matrix (Ritz-Galerkin ansatz)."
   ]
  },
  {
   "cell_type": "markdown",
   "id": "hollow-addiction",
   "metadata": {},
   "source": [
    "### Plane-wave basis sets\n",
    "\n",
    "Multiple basis sets are used in practice. One basis set agreeing particularly well with the nature of periodic problems\n",
    "are plane waves. For our 1D example normalised plane waves are defined as the functions\n",
    "$$ e_{G}(x) = \\frac{e^{i G x}}{\\sqrt{a}}  \\qquad G \\in b\\mathbb{Z} $$\n",
    "and typically one forms basis sets from these by specifying a so-called **kinetic energy cutoff** $E_\\text{cut}$:\n",
    "$$ \\left\\{ e_{G} \\, \\big| \\, (G + k)^2 \\leq 2E_\\text{cut} \\right\\} $$\n",
    "\n",
    "Notice that (our) $H_k$ is already diagonal with this basis:\n",
    "\\begin{align}\n",
    "\\langle e_{G} | H_k e_{G'} \\rangle\n",
    "&=  \\frac12 \\left\\langle e_{G} \\middle| (-i \\nabla + k)^2 \\, e_{G'} \\right\\rangle \\\\\n",
    "&= \\frac12 (G + k)^2 \\left\\langle e_{G} \\middle|e_{G'}\\right\\rangle \\\\\n",
    "&= \\frac12 (G + k)^2 \\delta_{GG'}\n",
    "\\end{align}"
   ]
  },
  {
   "cell_type": "markdown",
   "id": "swedish-sherman",
   "metadata": {},
   "source": [
    "## Let's crunch some numbers!\n",
    "\n",
    "One typical approach to get physical insight into a Hamiltonian $H$ is to plot a so-called **band structure**, that is the eigenvalues of $H_k$ versus $k$. The rough steps to plot a band structure are:\n",
    "\n",
    "1. Select a set of $k$-points ($k$-point sampling)\n",
    "1. Select plane-wave cutoff, thus the basis for discretising $H_k$\n",
    "1. Build and diagonalise $H_k$ for each $k$.\n",
    "1. Plot eigenvalues versus $k$"
   ]
  },
  {
   "cell_type": "code",
   "execution_count": null,
   "id": "incorporated-earthquake",
   "metadata": {},
   "outputs": [],
   "source": [
    "using LinearAlgebra\n",
    "using Plots\n",
    "\n",
    "# Parameters\n",
    "a = 100     # Lattice constant\n",
    "Ecut = 300  # in Hartree\n",
    "kgrid = 50  # Number of points on equally-spaced grid for k\n",
    "\n",
    "# Derived quantities\n",
    "b = 2π / a  # Reciprocal lattice\n",
    "\n",
    "# Step 1: k-Points\n",
    "kpoints = b * (collect(1:kgrid) .- ceil(Int, kgrid / 2)) ./ kgrid\n",
    "\n",
    "# Step 2: Basis for H_k\n",
    "#         Represented as one array of all valid G*b per kpoint\n",
    "Gmax = ceil(Int, sqrt(2Ecut) + b)  # Rough upper bound for G\n",
    "Gs = [[Gidx*b for Gidx in -Gmax:Gmax if abs2(Gidx*b + k) ≤ 2Ecut]\n",
    "      for k in kpoints]\n",
    "\n",
    "# Step 3: Build the discretised Hk. In this case it is diagonal,\n",
    "#         i.e. its diagonal values (== eigenvalues) are all we need.\n",
    "#         We directly determine them and sort them ascendingly\n",
    "ev_Hk = [sort([abs2(G + k)/2 for G in Gs[ik]])\n",
    "         for (ik, k) in enumerate(kpoints)]\n",
    "\n",
    "# Step 4: Plot the bands\n",
    "n_bands = 6\n",
    "bands = [[ev_Hk[ik][iband] for ik in 1:length(kpoints)]\n",
    "         for iband in 1:n_bands]\n",
    "\n",
    "p = plot()\n",
    "for iband in 1:n_bands\n",
    "    plot!(p, kpoints, bands[iband], color=:blue, label=\"\")\n",
    "end\n",
    "p"
   ]
  },
  {
   "cell_type": "markdown",
   "id": "honest-ticket",
   "metadata": {},
   "source": [
    "Exactly the same can be achieved using DFTK, albeit in essentially only four lines of code:"
   ]
  },
  {
   "cell_type": "code",
   "execution_count": null,
   "id": "abroad-probe",
   "metadata": {},
   "outputs": [],
   "source": [
    "using DFTK\n",
    "using Unitful\n",
    "using UnitfulAtomic\n",
    "using Plots\n",
    "using LinearAlgebra\n",
    "\n",
    "# Build the 1D lattice. DFTK is mostly tailored for 3D problems.\n",
    "# Therefore quantities related to the problem space are have a fixed\n",
    "# dimension 3. The convention is that for 1D / 2D problems the\n",
    "# tailling entries are always zero and ignored in the computation.\n",
    "# For the lattice we therefore construct a 3x3 matrix with only one entry.\n",
    "lattice = zeros(3, 3)\n",
    "lattice[1, 1] = 100.\n",
    "\n",
    "# Select a model. In this case we choose a free-electron model,\n",
    "# which is the same as saying that there is only a Kinetic term\n",
    "# (and no potential) in the model. The `n_electrons` is dummy here.\n",
    "model = Model(lattice; n_electrons=0, terms=[Kinetic()])\n",
    "@show model.n_dim\n",
    "\n",
    "# Step 2: Define a plane-wave basis using this model and the same cutoff\n",
    "# as before. The kpoint grid is given as a regular grid in the BZ.\n",
    "# Here we select only one k-Point (1x1x1). The kpoints for calculating and plotting\n",
    "# the bands are selected below. (This distinction between k-Points for the basis\n",
    "# and the plotting is needed for more complicated models like DFT)\n",
    "basis = PlaneWaveBasis(model; Ecut=300, kgrid=(1, 1, 1));\n",
    "\n",
    "# Steps 1, 3 & 4: K-Point selection, discretisation, diagonalisation\n",
    "n_bands = 6\n",
    "ρ0 = guess_density(basis)  # Just dummy, has no meaning in this model\n",
    "p  = plot_bandstructure(basis, ρ0, n_bands, kline_density=15, unit=u\"hartree\")"
   ]
  },
  {
   "cell_type": "markdown",
   "id": "legislative-warrior",
   "metadata": {},
   "source": [
    "## Adding potentials\n",
    "\n",
    "So far so good. But free electrons are actually a little boring,\n",
    "so let's add a potential interacting with the electrons.\n",
    "\n",
    "- The modified problem we will look at consists of diagonalising\n",
    "\n",
    "$$ H_k = \\frac12 (-i \\nabla + k)^2 + V $$\n",
    "\n",
    "for all $k \\in \\text{BZ}$ with a periodic potential $V$ interacting with the electrons.\n",
    "\n",
    "- A number of \"standard\" potentials are readily implemented in DFTK and\n",
    "  can be assembled using the `terms` kwarg of the model.\n",
    "  This allows to seamlessly construct\n",
    "  \n",
    "    * density-functial theory models for treating electronic structures\n",
    "      (see the next notebook)\n",
    "    * Gross-Pitaevskii models for bosonic systems\n",
    "    * even some more unusual cases like anyonic models.  \n",
    "  \n",
    "  \n",
    "In this workbook we will go a little more low-level and directly provide\n",
    "an analytic potential describing the interaction with the electrons to DFTK.\n",
    "\n",
    "First we define a custom Gaussian potential as a new \"element\" inside DFTK:"
   ]
  },
  {
   "cell_type": "code",
   "execution_count": null,
   "id": "noble-primary",
   "metadata": {},
   "outputs": [],
   "source": [
    "using DFTK\n",
    "\n",
    "struct ElementGaussian <: DFTK.Element\n",
    "    α  # Prefactor\n",
    "    L  # Extend\n",
    "end\n",
    "# Dummy (needed for cases modelling actual atoms)\n",
    "DFTK.charge_ionic(el::ElementGaussian) = 0\n",
    "DFTK.charge_nuclear(el::ElementGaussian) = 0\n",
    "\n",
    "# Some default values\n",
    "ElementGaussian() = ElementGaussian(0.3, 10.0)\n",
    "\n",
    "# Real-space representation of a Gaussian\n",
    "function DFTK.local_potential_real(el::ElementGaussian, r::Real)\n",
    "    -el.α / (√(2π) * el.L) * exp(- (r / el.L)^2 / 2)\n",
    "end\n",
    "\n",
    "# Fourier-space representation of the Gaussian\n",
    "function DFTK.local_potential_fourier(el::ElementGaussian, q::Real)\n",
    "    # = ∫ -α exp(-(r/L)^2 exp(-ir⋅q) dr\n",
    "    -el.α * exp(- (q * el.L)^2 / 2)\n",
    "end"
   ]
  },
  {
   "cell_type": "markdown",
   "id": "extraordinary-mechanism",
   "metadata": {},
   "source": [
    "A single potential looks like this:"
   ]
  },
  {
   "cell_type": "code",
   "execution_count": null,
   "id": "recovered-rendering",
   "metadata": {},
   "outputs": [],
   "source": [
    "using Plots\n",
    "nucleus = ElementGaussian()\n",
    "plot(r -> DFTK.local_potential_real(nucleus, norm(r)), xlims=(-50, 50))"
   ]
  },
  {
   "cell_type": "markdown",
   "id": "experimental-latino",
   "metadata": {},
   "source": [
    "With this element at hand we can easily construct a setting\n",
    "where two potentials of this form are located at positions\n",
    "$20$ and $80$ inside the lattice $[0, 100]$:"
   ]
  },
  {
   "cell_type": "code",
   "execution_count": null,
   "id": "victorian-spank",
   "metadata": {},
   "outputs": [],
   "source": [
    "using LinearAlgebra\n",
    "\n",
    "# Define the 1D lattice [0, 100]\n",
    "lattice = diagm([100., 0, 0])\n",
    "\n",
    "# Place them at 20 and 80 in *fractional coordinates*,\n",
    "# that is 0.2 and 0.8, since the lattice is 100 wide.\n",
    "nucleus = ElementGaussian()\n",
    "atoms = [nucleus => [[0.2, 0, 0], [0.8, 0, 0]]]\n",
    "\n",
    "# Assemble the model, discretise and build the Hamiltonian\n",
    "model = Model(lattice; atoms=atoms, terms=[Kinetic(), AtomicLocal()])\n",
    "basis = PlaneWaveBasis(model; Ecut=300, kgrid=(1, 1, 1));\n",
    "ham   = Hamiltonian(basis)\n",
    "\n",
    "# Extract the total potential term of the Hamiltonian and plot it\n",
    "potential = DFTK.total_local_potential(ham)[:, 1, 1]\n",
    "rvecs = collect(r_vectors_cart(basis))[:, 1, 1]  # slice along the x axis\n",
    "x = [r[1] for r in rvecs]                   # only keep the x coordinate\n",
    "plot(x, potential, label=\"\", xlabel=\"x\", ylabel=\"V(x)\")"
   ]
  },
  {
   "cell_type": "markdown",
   "id": "complimentary-tokyo",
   "metadata": {},
   "source": [
    "Notice how DFTK took care of the periodic wrapping of the potential values going from $0$ and $100$.\n",
    "\n",
    "With this setup, let's look at the bands:"
   ]
  },
  {
   "cell_type": "code",
   "execution_count": null,
   "id": "scientific-inspection",
   "metadata": {},
   "outputs": [],
   "source": [
    "using Unitful\n",
    "using UnitfulAtomic\n",
    "\n",
    "n_bands = 6\n",
    "ρ0 = zeros(eltype(basis), basis.fft_size..., 1)  # Just dummy, has no meaning in this model\n",
    "p = plot_bandstructure(basis, ρ0, n_bands, kline_density=15, unit=u\"hartree\")"
   ]
  },
  {
   "cell_type": "markdown",
   "id": "liquid-intake",
   "metadata": {},
   "source": [
    "The bands are noticably different.\n",
    "- The bands no longer overlap, meaning that the spectrum of $H$ is no longer continous but has gaps.\n",
    "\n",
    "- The two lowest bands are almost flat, which means that they represent\n",
    "  two tightly bound and localised electrons inside the two Gaussians. \n",
    "  \n",
    "- The higher the bands, the more curved they become. In other words the higher the kinetic energy of the electrons the more delocalised they become and the less they feel the effect of the two Gaussian potentials.\n",
    "\n",
    "**Exercise:** Try playing with the parameters of the Gaussian potentials by setting\n",
    "```julia\n",
    "nucleus = ElementGaussian(α, L)\n",
    "```\n",
    "with different $\\alpha$ and $L$ in the above procedure."
   ]
  },
  {
   "cell_type": "markdown",
   "id": "gothic-native",
   "metadata": {},
   "source": [
    "## Going to 3D\n",
    "\n",
    "- Our example: Silicon\n",
    "\n",
    "| <img src=\"img/Silicon_crystal.jpg\" width=180 height=180 /> |\n",
    "| --------------- |\n",
    "| silicon crystal |\n",
    "\n",
    "- $A$ becomes a matrix, e.g. for silicon (diamond structure)\n",
    "  $$ A = \\frac{a}{2} \\left( \\begin{array}{ccc} 0&1&1\\\\1&0&1\\\\1&1&0 \\end{array} \\right) \\qquad a = 10.26\\,\\text{bohr}. $$\n",
    "- Brillouin zones become more involved:\n",
    "\n",
    "| <img src=\"img/Brillouin_Zone.svg\" width=250 height=250 /> |\n",
    "| --------------------------------------------------------- |\n",
    "|   face-centred cubic BZ (applies to silicon)              |\n",
    "  \n",
    "- $k$-points are vectors taken from a rectangular 3D grid inside the BZ\n",
    "- Plane-wave wave vectors $G$ are vectorial:\n",
    "  $$ e_G = \\frac{1}{\\sqrt{\\text{det}(A)}} e^{i G\\cdot r} $$\n",
    "- Cutoff taken over norm:\n",
    "  $$ \\{ e_G | \\|G + k\\|^2 \\leq 2E_\\text{cut} \\} $$"
   ]
  },
  {
   "cell_type": "markdown",
   "id": "domestic-america",
   "metadata": {},
   "source": [
    "- The bandstructure of silicon:\n",
    "<img src=\"img/silicon_bands.png\" width=500 height=500 />"
   ]
  },
  {
   "cell_type": "markdown",
   "id": "economic-wagon",
   "metadata": {},
   "source": [
    "#### Takeaway\n",
    "\n",
    "- For periodic problems the Bloch transform allows to find the eigenpairs of an operator $k$-Point by $k$-Point\n",
    "- The $k$ points are taken in a discrete mesh from the Brillouin zone.\n",
    "- A common way to visualise the eigenvalues is as a plot versus $k$, the band structure."
   ]
  }
 ],
 "metadata": {
  "kernelspec": {
   "display_name": "Julia 1.6.1",
   "language": "julia",
   "name": "julia-1.6"
  },
  "language_info": {
   "file_extension": ".jl",
   "mimetype": "application/julia",
   "name": "julia",
   "version": "1.6.1"
  }
 },
 "nbformat": 4,
 "nbformat_minor": 5
}
